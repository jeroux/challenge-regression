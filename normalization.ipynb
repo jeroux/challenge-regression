{
 "cells": [
  {
   "cell_type": "code",
   "execution_count": 60,
   "metadata": {},
   "outputs": [],
   "source": [
    "import pandas as pd\n",
    "import numpy as np\n",
    "\n",
    "from sklearn.pipeline import make_pipeline\n",
    "from sklearn.preprocessing import StandardScaler, OneHotEncoder\n",
    "from sklearn.impute import SimpleImputer\n",
    "from sklearn.linear_model import LinearRegression\n",
    "from sklearn.compose import make_column_transformer\n",
    "from sklearn.model_selection import train_test_split"
   ]
  },
  {
   "cell_type": "code",
   "execution_count": 106,
   "metadata": {},
   "outputs": [
    {
     "data": {
      "text/html": [
       "<div>\n",
       "<style scoped>\n",
       "    .dataframe tbody tr th:only-of-type {\n",
       "        vertical-align: middle;\n",
       "    }\n",
       "\n",
       "    .dataframe tbody tr th {\n",
       "        vertical-align: top;\n",
       "    }\n",
       "\n",
       "    .dataframe thead th {\n",
       "        text-align: right;\n",
       "    }\n",
       "</style>\n",
       "<table border=\"1\" class=\"dataframe\">\n",
       "  <thead>\n",
       "    <tr style=\"text-align: right;\">\n",
       "      <th></th>\n",
       "      <th>Unnamed: 0</th>\n",
       "      <th>Locality</th>\n",
       "      <th>Type of property</th>\n",
       "      <th>Price</th>\n",
       "      <th>Number of rooms</th>\n",
       "      <th>Area</th>\n",
       "      <th>Fully equipped kitchen</th>\n",
       "      <th>Furnished</th>\n",
       "      <th>Open fire</th>\n",
       "      <th>Terrace Area</th>\n",
       "      <th>Garden Area</th>\n",
       "      <th>Surface of the land</th>\n",
       "      <th>Number of facades</th>\n",
       "      <th>Swimming pool</th>\n",
       "      <th>State of the building</th>\n",
       "      <th>Province</th>\n",
       "      <th>Region</th>\n",
       "      <th>PriceperMeter</th>\n",
       "      <th>Prov_num</th>\n",
       "      <th>Region_num</th>\n",
       "    </tr>\n",
       "  </thead>\n",
       "  <tbody>\n",
       "    <tr>\n",
       "      <th>0</th>\n",
       "      <td>0</td>\n",
       "      <td>2970</td>\n",
       "      <td>apartment</td>\n",
       "      <td>764999.0</td>\n",
       "      <td>2.0</td>\n",
       "      <td>153.0</td>\n",
       "      <td>0.0</td>\n",
       "      <td>0.0</td>\n",
       "      <td>0.0</td>\n",
       "      <td>62.0</td>\n",
       "      <td>0.0</td>\n",
       "      <td>215.0</td>\n",
       "      <td>2.0</td>\n",
       "      <td>0.0</td>\n",
       "      <td>medium</td>\n",
       "      <td>Anvers</td>\n",
       "      <td>Flanders</td>\n",
       "      <td>4999.0</td>\n",
       "      <td>4</td>\n",
       "      <td>3</td>\n",
       "    </tr>\n",
       "    <tr>\n",
       "      <th>1</th>\n",
       "      <td>1</td>\n",
       "      <td>3200</td>\n",
       "      <td>apartment</td>\n",
       "      <td>294999.0</td>\n",
       "      <td>2.0</td>\n",
       "      <td>80.0</td>\n",
       "      <td>0.0</td>\n",
       "      <td>0.0</td>\n",
       "      <td>0.0</td>\n",
       "      <td>0.0</td>\n",
       "      <td>0.0</td>\n",
       "      <td>80.0</td>\n",
       "      <td>2.0</td>\n",
       "      <td>0.0</td>\n",
       "      <td>medium</td>\n",
       "      <td>Brabant Flamand</td>\n",
       "      <td>Flanders</td>\n",
       "      <td>3687.0</td>\n",
       "      <td>3</td>\n",
       "      <td>3</td>\n",
       "    </tr>\n",
       "    <tr>\n",
       "      <th>2</th>\n",
       "      <td>2</td>\n",
       "      <td>8211</td>\n",
       "      <td>apartment</td>\n",
       "      <td>233999.0</td>\n",
       "      <td>2.0</td>\n",
       "      <td>90.0</td>\n",
       "      <td>0.0</td>\n",
       "      <td>0.0</td>\n",
       "      <td>0.0</td>\n",
       "      <td>0.0</td>\n",
       "      <td>0.0</td>\n",
       "      <td>90.0</td>\n",
       "      <td>2.0</td>\n",
       "      <td>0.0</td>\n",
       "      <td>medium</td>\n",
       "      <td>Flandre Occidental</td>\n",
       "      <td>Flanders</td>\n",
       "      <td>2599.0</td>\n",
       "      <td>10</td>\n",
       "      <td>3</td>\n",
       "    </tr>\n",
       "    <tr>\n",
       "      <th>3</th>\n",
       "      <td>3</td>\n",
       "      <td>2630</td>\n",
       "      <td>apartment</td>\n",
       "      <td>329899.0</td>\n",
       "      <td>1.0</td>\n",
       "      <td>87.0</td>\n",
       "      <td>0.0</td>\n",
       "      <td>0.0</td>\n",
       "      <td>0.0</td>\n",
       "      <td>28.0</td>\n",
       "      <td>0.0</td>\n",
       "      <td>115.0</td>\n",
       "      <td>2.0</td>\n",
       "      <td>0.0</td>\n",
       "      <td>medium</td>\n",
       "      <td>Anvers</td>\n",
       "      <td>Flanders</td>\n",
       "      <td>3791.0</td>\n",
       "      <td>4</td>\n",
       "      <td>3</td>\n",
       "    </tr>\n",
       "    <tr>\n",
       "      <th>4</th>\n",
       "      <td>4</td>\n",
       "      <td>2630</td>\n",
       "      <td>apartment</td>\n",
       "      <td>359899.0</td>\n",
       "      <td>1.0</td>\n",
       "      <td>95.0</td>\n",
       "      <td>0.0</td>\n",
       "      <td>0.0</td>\n",
       "      <td>0.0</td>\n",
       "      <td>47.0</td>\n",
       "      <td>0.0</td>\n",
       "      <td>142.0</td>\n",
       "      <td>4.0</td>\n",
       "      <td>0.0</td>\n",
       "      <td>medium</td>\n",
       "      <td>Anvers</td>\n",
       "      <td>Flanders</td>\n",
       "      <td>3788.0</td>\n",
       "      <td>4</td>\n",
       "      <td>3</td>\n",
       "    </tr>\n",
       "  </tbody>\n",
       "</table>\n",
       "</div>"
      ],
      "text/plain": [
       "   Unnamed: 0  Locality Type of property     Price  Number of rooms   Area  \\\n",
       "0           0      2970        apartment  764999.0              2.0  153.0   \n",
       "1           1      3200        apartment  294999.0              2.0   80.0   \n",
       "2           2      8211        apartment  233999.0              2.0   90.0   \n",
       "3           3      2630        apartment  329899.0              1.0   87.0   \n",
       "4           4      2630        apartment  359899.0              1.0   95.0   \n",
       "\n",
       "   Fully equipped kitchen  Furnished  Open fire  Terrace Area  Garden Area  \\\n",
       "0                     0.0        0.0        0.0          62.0          0.0   \n",
       "1                     0.0        0.0        0.0           0.0          0.0   \n",
       "2                     0.0        0.0        0.0           0.0          0.0   \n",
       "3                     0.0        0.0        0.0          28.0          0.0   \n",
       "4                     0.0        0.0        0.0          47.0          0.0   \n",
       "\n",
       "   Surface of the land  Number of facades  Swimming pool  \\\n",
       "0                215.0                2.0            0.0   \n",
       "1                 80.0                2.0            0.0   \n",
       "2                 90.0                2.0            0.0   \n",
       "3                115.0                2.0            0.0   \n",
       "4                142.0                4.0            0.0   \n",
       "\n",
       "  State of the building            Province    Region  PriceperMeter  \\\n",
       "0                medium              Anvers  Flanders         4999.0   \n",
       "1                medium     Brabant Flamand  Flanders         3687.0   \n",
       "2                medium  Flandre Occidental  Flanders         2599.0   \n",
       "3                medium              Anvers  Flanders         3791.0   \n",
       "4                medium              Anvers  Flanders         3788.0   \n",
       "\n",
       "   Prov_num  Region_num  \n",
       "0         4           3  \n",
       "1         3           3  \n",
       "2        10           3  \n",
       "3         4           3  \n",
       "4         4           3  "
      ]
     },
     "execution_count": 106,
     "metadata": {},
     "output_type": "execute_result"
    }
   ],
   "source": [
    "data = pd.read_csv(\"data8.csv\", sep=\",\")\n",
    "data.head()"
   ]
  },
  {
   "cell_type": "code",
   "execution_count": 121,
   "metadata": {},
   "outputs": [
    {
     "ename": "SyntaxError",
     "evalue": "invalid syntax (<ipython-input-121-fefa61e5b9d1>, line 1)",
     "output_type": "error",
     "traceback": [
      "\u001b[1;36m  File \u001b[1;32m\"<ipython-input-121-fefa61e5b9d1>\"\u001b[1;36m, line \u001b[1;32m1\u001b[0m\n\u001b[1;33m    data.loc(:, data['Number of facades'].idxmax())\u001b[0m\n\u001b[1;37m             ^\u001b[0m\n\u001b[1;31mSyntaxError\u001b[0m\u001b[1;31m:\u001b[0m invalid syntax\n"
     ]
    }
   ],
   "source": [
    "data.loc(:, data['Number of facades'].idxmax())"
   ]
  },
  {
   "cell_type": "code",
   "execution_count": 108,
   "metadata": {},
   "outputs": [],
   "source": [
    "X = data.drop(\"Price\", axis = 1)\n",
    "y = data[\"Price\"]"
   ]
  },
  {
   "cell_type": "code",
   "execution_count": 109,
   "metadata": {},
   "outputs": [],
   "source": [
    "X_train, X_test, y_train, y_test = train_test_split(X, y, test_size=0.2, random_state=41)"
   ]
  },
  {
   "cell_type": "code",
   "execution_count": 110,
   "metadata": {},
   "outputs": [],
   "source": [
    "numerical_features = ['Locality', 'Number of rooms', 'Area', 'Terrace Area', 'Garden Area', 'Surface of the land','PriceperMeter' ]\n",
    "categorial_features = ['Type of property','Fully equipped kitchen', 'Furnished', 'Open fire','Number of facades',\n",
    "                       'Swimming pool', 'State of the building', 'Province', 'Region']"
   ]
  },
  {
   "cell_type": "code",
   "execution_count": 111,
   "metadata": {},
   "outputs": [],
   "source": [
    "numerical_pipeline = make_pipeline(SimpleImputer(), StandardScaler())\n",
    "categorial_pipeline = make_pipeline(SimpleImputer(strategy=\"most_frequent\"), \n",
    "                                   OneHotEncoder())"
   ]
  },
  {
   "cell_type": "code",
   "execution_count": 112,
   "metadata": {},
   "outputs": [],
   "source": [
    "preprocessor = make_column_transformer((numerical_pipeline, numerical_features),\n",
    "                       (categorial_pipeline, categorial_features))"
   ]
  },
  {
   "cell_type": "code",
   "execution_count": 113,
   "metadata": {},
   "outputs": [
    {
     "data": {
      "text/plain": [
       "Pipeline(steps=[('columntransformer',\n",
       "                 ColumnTransformer(transformers=[('pipeline-1',\n",
       "                                                  Pipeline(steps=[('simpleimputer',\n",
       "                                                                   SimpleImputer()),\n",
       "                                                                  ('standardscaler',\n",
       "                                                                   StandardScaler())]),\n",
       "                                                  ['Locality',\n",
       "                                                   'Number of rooms', 'Area',\n",
       "                                                   'Terrace Area',\n",
       "                                                   'Garden Area',\n",
       "                                                   'Surface of the land',\n",
       "                                                   'PriceperMeter']),\n",
       "                                                 ('pipeline-2',\n",
       "                                                  Pipeline(steps=[('simpleimputer',\n",
       "                                                                   SimpleImputer(strategy='most_frequent')),\n",
       "                                                                  ('onehotencoder',\n",
       "                                                                   OneHotEncoder())]),\n",
       "                                                  ['Type of property',\n",
       "                                                   'Fully equipped kitchen',\n",
       "                                                   'Furnished', 'Open fire',\n",
       "                                                   'Number of facades',\n",
       "                                                   'Swimming pool',\n",
       "                                                   'State of the building',\n",
       "                                                   'Province', 'Region'])])),\n",
       "                ('linearregression', LinearRegression())])"
      ]
     },
     "execution_count": 113,
     "metadata": {},
     "output_type": "execute_result"
    }
   ],
   "source": [
    "model = make_pipeline(preprocessor, LinearRegression())\n",
    "model.fit(X_train, y_train)"
   ]
  },
  {
   "cell_type": "code",
   "execution_count": 115,
   "metadata": {},
   "outputs": [],
   "source": [
    "prediction = model.predict(X_test)"
   ]
  },
  {
   "cell_type": "code",
   "execution_count": 116,
   "metadata": {},
   "outputs": [
    {
     "data": {
      "text/plain": [
       "array([505006., 293104., 302082., ..., 273126., 427470., 434278.])"
      ]
     },
     "execution_count": 116,
     "metadata": {},
     "output_type": "execute_result"
    }
   ],
   "source": [
    "prediction"
   ]
  },
  {
   "cell_type": "code",
   "execution_count": 117,
   "metadata": {},
   "outputs": [
    {
     "data": {
      "text/plain": [
       "0.5135176986073351"
      ]
     },
     "execution_count": 117,
     "metadata": {},
     "output_type": "execute_result"
    }
   ],
   "source": [
    "model.score(X_test, y_test)"
   ]
  },
  {
   "cell_type": "code",
   "execution_count": null,
   "metadata": {},
   "outputs": [],
   "source": []
  }
 ],
 "metadata": {
  "kernelspec": {
   "display_name": "Python 3",
   "language": "python",
   "name": "python3"
  },
  "language_info": {
   "codemirror_mode": {
    "name": "ipython",
    "version": 3
   },
   "file_extension": ".py",
   "mimetype": "text/x-python",
   "name": "python",
   "nbconvert_exporter": "python",
   "pygments_lexer": "ipython3",
   "version": "3.8.5"
  }
 },
 "nbformat": 4,
 "nbformat_minor": 4
}
